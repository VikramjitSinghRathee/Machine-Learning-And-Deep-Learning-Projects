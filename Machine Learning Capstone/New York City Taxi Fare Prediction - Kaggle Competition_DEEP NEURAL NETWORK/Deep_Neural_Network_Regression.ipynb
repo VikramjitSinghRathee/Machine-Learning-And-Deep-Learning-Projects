{
 "cells": [
  {
   "cell_type": "code",
   "execution_count": 1,
   "metadata": {},
   "outputs": [
    {
     "name": "stderr",
     "output_type": "stream",
     "text": [
      "Using TensorFlow backend.\n"
     ]
    }
   ],
   "source": [
    "# Importing relevant libraries, specially, Keras with tensorflow backend\n",
    "# I would like to mention that for running and building this DNN regression model\n",
    "# I had rent gpu servers from the paperspace.com\n",
    "\n",
    "%matplotlib inline\n",
    "from matplotlib.pyplot import figure, show\n",
    "from sklearn.model_selection import train_test_split\n",
    "import pandas as pd\n",
    "import os\n",
    "import numpy as np\n",
    "from sklearn import metrics\n",
    "from scipy.stats import zscore\n",
    "import tensorflow as tf\n",
    "from keras.models import Sequential\n",
    "from keras.layers.core import Dense, Activation, Dropout\n",
    "from keras.callbacks import EarlyStopping\n",
    "from keras.callbacks import ModelCheckpoint\n",
    "import matplotlib.pyplot as plt\n",
    "from keras.layers.normalization import BatchNormalization\n",
    "from sklearn.preprocessing import StandardScaler\n",
    "from sklearn.externals import joblib"
   ]
  },
  {
   "cell_type": "code",
   "execution_count": 2,
   "metadata": {},
   "outputs": [
    {
     "data": {
      "text/plain": [
       "['/job:localhost/replica:0/task:0/device:GPU:0']"
      ]
     },
     "execution_count": 2,
     "metadata": {},
     "output_type": "execute_result"
    }
   ],
   "source": [
    "# checking if I am utilizing GPU\n",
    "from keras import backend as K\n",
    "K.tensorflow_backend._get_available_gpus()"
   ]
  },
  {
   "cell_type": "code",
   "execution_count": 3,
   "metadata": {},
   "outputs": [
    {
     "data": {
      "text/html": [
       "<div>\n",
       "<style scoped>\n",
       "    .dataframe tbody tr th:only-of-type {\n",
       "        vertical-align: middle;\n",
       "    }\n",
       "\n",
       "    .dataframe tbody tr th {\n",
       "        vertical-align: top;\n",
       "    }\n",
       "\n",
       "    .dataframe thead th {\n",
       "        text-align: right;\n",
       "    }\n",
       "</style>\n",
       "<table border=\"1\" class=\"dataframe\">\n",
       "  <thead>\n",
       "    <tr style=\"text-align: right;\">\n",
       "      <th></th>\n",
       "      <th>fare_amount</th>\n",
       "      <th>pickup_longitude</th>\n",
       "      <th>pickup_latitude</th>\n",
       "      <th>dropoff_longitude</th>\n",
       "      <th>dropoff_latitude</th>\n",
       "      <th>passenger_count</th>\n",
       "      <th>hour_of_day</th>\n",
       "      <th>year</th>\n",
       "    </tr>\n",
       "  </thead>\n",
       "  <tbody>\n",
       "    <tr>\n",
       "      <th>0</th>\n",
       "      <td>-0.747181</td>\n",
       "      <td>3.313546</td>\n",
       "      <td>-0.931792</td>\n",
       "      <td>3.533124</td>\n",
       "      <td>-1.120772</td>\n",
       "      <td>-0.528808</td>\n",
       "      <td>0.535072</td>\n",
       "      <td>-1.466847</td>\n",
       "    </tr>\n",
       "    <tr>\n",
       "      <th>1</th>\n",
       "      <td>0.646017</td>\n",
       "      <td>-1.031476</td>\n",
       "      <td>-1.246457</td>\n",
       "      <td>-0.136169</td>\n",
       "      <td>0.880085</td>\n",
       "      <td>-0.528808</td>\n",
       "      <td>0.381630</td>\n",
       "      <td>-0.930737</td>\n",
       "    </tr>\n",
       "    <tr>\n",
       "      <th>2</th>\n",
       "      <td>-0.612355</td>\n",
       "      <td>-0.188686</td>\n",
       "      <td>0.323632</td>\n",
       "      <td>-0.455246</td>\n",
       "      <td>-0.022211</td>\n",
       "      <td>0.236251</td>\n",
       "      <td>-2.073428</td>\n",
       "      <td>-0.394626</td>\n",
       "    </tr>\n",
       "    <tr>\n",
       "      <th>3</th>\n",
       "      <td>-0.387646</td>\n",
       "      <td>-0.299874</td>\n",
       "      <td>-0.560187</td>\n",
       "      <td>-0.463991</td>\n",
       "      <td>0.193867</td>\n",
       "      <td>-0.528808</td>\n",
       "      <td>-1.459664</td>\n",
       "      <td>0.141484</td>\n",
       "    </tr>\n",
       "    <tr>\n",
       "      <th>4</th>\n",
       "      <td>-0.657297</td>\n",
       "      <td>0.181748</td>\n",
       "      <td>0.535446</td>\n",
       "      <td>0.466602</td>\n",
       "      <td>0.930547</td>\n",
       "      <td>-0.528808</td>\n",
       "      <td>-0.999340</td>\n",
       "      <td>-0.930737</td>\n",
       "    </tr>\n",
       "  </tbody>\n",
       "</table>\n",
       "</div>"
      ],
      "text/plain": [
       "   fare_amount  pickup_longitude  pickup_latitude  dropoff_longitude  \\\n",
       "0    -0.747181          3.313546        -0.931792           3.533124   \n",
       "1     0.646017         -1.031476        -1.246457          -0.136169   \n",
       "2    -0.612355         -0.188686         0.323632          -0.455246   \n",
       "3    -0.387646         -0.299874        -0.560187          -0.463991   \n",
       "4    -0.657297          0.181748         0.535446           0.466602   \n",
       "\n",
       "   dropoff_latitude  passenger_count  hour_of_day      year  \n",
       "0         -1.120772        -0.528808     0.535072 -1.466847  \n",
       "1          0.880085        -0.528808     0.381630 -0.930737  \n",
       "2         -0.022211         0.236251    -2.073428 -0.394626  \n",
       "3          0.193867        -0.528808    -1.459664  0.141484  \n",
       "4          0.930547        -0.528808    -0.999340 -0.930737  "
      ]
     },
     "metadata": {},
     "output_type": "display_data"
    },
    {
     "data": {
      "text/html": [
       "<div>\n",
       "<style scoped>\n",
       "    .dataframe tbody tr th:only-of-type {\n",
       "        vertical-align: middle;\n",
       "    }\n",
       "\n",
       "    .dataframe tbody tr th {\n",
       "        vertical-align: top;\n",
       "    }\n",
       "\n",
       "    .dataframe thead th {\n",
       "        text-align: right;\n",
       "    }\n",
       "</style>\n",
       "<table border=\"1\" class=\"dataframe\">\n",
       "  <thead>\n",
       "    <tr style=\"text-align: right;\">\n",
       "      <th></th>\n",
       "      <th>pickup_longitude</th>\n",
       "      <th>pickup_latitude</th>\n",
       "      <th>dropoff_longitude</th>\n",
       "      <th>dropoff_latitude</th>\n",
       "      <th>passenger_count</th>\n",
       "      <th>hour_of_day</th>\n",
       "      <th>year</th>\n",
       "    </tr>\n",
       "  </thead>\n",
       "  <tbody>\n",
       "    <tr>\n",
       "      <th>0</th>\n",
       "      <td>3.313546</td>\n",
       "      <td>-0.931792</td>\n",
       "      <td>3.533124</td>\n",
       "      <td>-1.120772</td>\n",
       "      <td>-0.528808</td>\n",
       "      <td>0.535072</td>\n",
       "      <td>-1.466847</td>\n",
       "    </tr>\n",
       "    <tr>\n",
       "      <th>1</th>\n",
       "      <td>-1.031476</td>\n",
       "      <td>-1.246457</td>\n",
       "      <td>-0.136169</td>\n",
       "      <td>0.880085</td>\n",
       "      <td>-0.528808</td>\n",
       "      <td>0.381630</td>\n",
       "      <td>-0.930737</td>\n",
       "    </tr>\n",
       "    <tr>\n",
       "      <th>2</th>\n",
       "      <td>-0.188686</td>\n",
       "      <td>0.323632</td>\n",
       "      <td>-0.455246</td>\n",
       "      <td>-0.022211</td>\n",
       "      <td>0.236251</td>\n",
       "      <td>-2.073428</td>\n",
       "      <td>-0.394626</td>\n",
       "    </tr>\n",
       "    <tr>\n",
       "      <th>3</th>\n",
       "      <td>-0.299874</td>\n",
       "      <td>-0.560187</td>\n",
       "      <td>-0.463991</td>\n",
       "      <td>0.193867</td>\n",
       "      <td>-0.528808</td>\n",
       "      <td>-1.459664</td>\n",
       "      <td>0.141484</td>\n",
       "    </tr>\n",
       "    <tr>\n",
       "      <th>4</th>\n",
       "      <td>0.181748</td>\n",
       "      <td>0.535446</td>\n",
       "      <td>0.466602</td>\n",
       "      <td>0.930547</td>\n",
       "      <td>-0.528808</td>\n",
       "      <td>-0.999340</td>\n",
       "      <td>-0.930737</td>\n",
       "    </tr>\n",
       "  </tbody>\n",
       "</table>\n",
       "</div>"
      ],
      "text/plain": [
       "   pickup_longitude  pickup_latitude  dropoff_longitude  dropoff_latitude  \\\n",
       "0          3.313546        -0.931792           3.533124         -1.120772   \n",
       "1         -1.031476        -1.246457          -0.136169          0.880085   \n",
       "2         -0.188686         0.323632          -0.455246         -0.022211   \n",
       "3         -0.299874        -0.560187          -0.463991          0.193867   \n",
       "4          0.181748         0.535446           0.466602          0.930547   \n",
       "\n",
       "   passenger_count  hour_of_day      year  \n",
       "0        -0.528808     0.535072 -1.466847  \n",
       "1        -0.528808     0.381630 -0.930737  \n",
       "2         0.236251    -2.073428 -0.394626  \n",
       "3        -0.528808    -1.459664  0.141484  \n",
       "4        -0.528808    -0.999340 -0.930737  "
      ]
     },
     "metadata": {},
     "output_type": "display_data"
    },
    {
     "data": {
      "text/plain": [
       "0   -0.747181\n",
       "1    0.646017\n",
       "2   -0.612355\n",
       "3   -0.387646\n",
       "4   -0.657297\n",
       "Name: fare_amount, dtype: float64"
      ]
     },
     "metadata": {},
     "output_type": "display_data"
    }
   ],
   "source": [
    "# LOADING SCALED TRAINING data which we created and saved in another notebook\n",
    "train_df_scaled = pd.read_feather('nyc_taxi_TRAIN_std_Scaled_data.feather')\n",
    "\n",
    "# Initially, I wanted to use the entire 55 million data, hence the renting of the gpu, However,\n",
    "# Training the Deep Neural Network below was taking very long time and would have required atleast a week or more time\n",
    "# of continous training :( Hence I decided to train on less amount of data. 1e+6 gave me a reasonable time for training,\n",
    "# hence below I am getting the 1e+06 data points from the Full training set.\n",
    "\n",
    "train_df_scaled_CUT = train_df_scaled[:1000000]\n",
    "display(train_df_scaled_CUT.head())\n",
    "train_df_scaled_CUT.shape\n",
    "\n",
    "# spliting into training set (X) and target set (y)\n",
    "X = train_df_scaled_CUT.drop(['fare_amount'], axis=1)\n",
    "display(X.head())\n",
    "y = train_df_scaled_CUT[\"fare_amount\"]\n",
    "display(y.head())"
   ]
  },
  {
   "cell_type": "code",
   "execution_count": 4,
   "metadata": {},
   "outputs": [
    {
     "name": "stdout",
     "output_type": "stream",
     "text": [
      "800000\n",
      "7\n"
     ]
    }
   ],
   "source": [
    "# splitting into training and validation set\n",
    "x_train,x_test,y_train,y_test = train_test_split(X,y, test_size=0.20, random_state=42)\n",
    "print(len(x_train))\n",
    "print(X.shape[1])"
   ]
  },
  {
   "cell_type": "code",
   "execution_count": 5,
   "metadata": {},
   "outputs": [
    {
     "name": "stdout",
     "output_type": "stream",
     "text": [
      "_________________________________________________________________\n",
      "Layer (type)                 Output Shape              Param #   \n",
      "=================================================================\n",
      "dense_1 (Dense)              (None, 500)               4000      \n",
      "_________________________________________________________________\n",
      "dropout_1 (Dropout)          (None, 500)               0         \n",
      "_________________________________________________________________\n",
      "dense_2 (Dense)              (None, 300)               150300    \n",
      "_________________________________________________________________\n",
      "dense_3 (Dense)              (None, 100)               30100     \n",
      "_________________________________________________________________\n",
      "dropout_2 (Dropout)          (None, 100)               0         \n",
      "_________________________________________________________________\n",
      "dense_4 (Dense)              (None, 50)                5050      \n",
      "_________________________________________________________________\n",
      "dense_5 (Dense)              (None, 1)                 51        \n",
      "=================================================================\n",
      "Total params: 189,501\n",
      "Trainable params: 189,501\n",
      "Non-trainable params: 0\n",
      "_________________________________________________________________\n"
     ]
    }
   ],
   "source": [
    "# DEEP NEURAL NETWORK ARCHITECTURE DEFINED HERE!\n",
    "\n",
    "from keras.optimizers import Adam\n",
    "\n",
    "model = Sequential()\n",
    "model.add(Dense(units = 500, kernel_initializer='normal', activation = 'relu',input_dim = X.shape[1]))\n",
    "model.add(Dropout(0.1))\n",
    "model.add(Dense(units = 300, kernel_initializer='normal', activation = 'relu'))\n",
    "model.add(Dense(units = 100, kernel_initializer='normal', activation = 'relu'))\n",
    "model.add(Dropout(0.1))\n",
    "model.add(Dense(units = 50, kernel_initializer='normal', activation = 'relu'))\n",
    "model.add(Dense(units = 1))\n",
    "\n",
    "adam = Adam(lr=0.0001, beta_1=0.9, beta_2=0.999, epsilon=1e-8)\n",
    "\n",
    "model.compile(loss='mean_squared_error', optimizer=adam)\n",
    "checkpointer = ModelCheckpoint(filepath=\"best_weights.hdf5\", verbose=1,save_best_only=True) # save the best model\n",
    "model.summary()"
   ]
  },
  {
   "cell_type": "code",
   "execution_count": 6,
   "metadata": {},
   "outputs": [
    {
     "name": "stdout",
     "output_type": "stream",
     "text": [
      "Train on 800000 samples, validate on 200000 samples\n",
      "Epoch 1/10\n",
      "800000/800000 [==============================] - 371s 464us/step - loss: 0.1839 - val_loss: 0.1478\n",
      "\n",
      "Epoch 00001: val_loss improved from inf to 0.14781, saving model to best_weights.hdf5\n",
      "Epoch 2/10\n",
      "800000/800000 [==============================] - 372s 465us/step - loss: 0.1539 - val_loss: 0.1390\n",
      "\n",
      "Epoch 00002: val_loss improved from 0.14781 to 0.13896, saving model to best_weights.hdf5\n",
      "Epoch 3/10\n",
      "800000/800000 [==============================] - 372s 466us/step - loss: 0.1498 - val_loss: 0.1407\n",
      "\n",
      "Epoch 00003: val_loss did not improve from 0.13896\n",
      "Epoch 4/10\n",
      "800000/800000 [==============================] - 372s 465us/step - loss: 0.1473 - val_loss: 0.1368\n",
      "\n",
      "Epoch 00004: val_loss improved from 0.13896 to 0.13685, saving model to best_weights.hdf5\n",
      "Epoch 5/10\n",
      "800000/800000 [==============================] - 372s 465us/step - loss: 0.1455 - val_loss: 0.1384\n",
      "\n",
      "Epoch 00005: val_loss did not improve from 0.13685\n",
      "Epoch 6/10\n",
      "800000/800000 [==============================] - 372s 464us/step - loss: 0.1449 - val_loss: 0.1329\n",
      "\n",
      "Epoch 00006: val_loss improved from 0.13685 to 0.13290, saving model to best_weights.hdf5\n",
      "Epoch 7/10\n",
      "800000/800000 [==============================] - 371s 464us/step - loss: 0.1428 - val_loss: 0.1301\n",
      "\n",
      "Epoch 00007: val_loss improved from 0.13290 to 0.13008, saving model to best_weights.hdf5\n",
      "Epoch 8/10\n",
      "800000/800000 [==============================] - 371s 464us/step - loss: 0.1422 - val_loss: 0.1325\n",
      "\n",
      "Epoch 00008: val_loss did not improve from 0.13008\n",
      "Epoch 9/10\n",
      "800000/800000 [==============================] - 373s 466us/step - loss: 0.1409 - val_loss: 0.1315\n",
      "\n",
      "Epoch 00009: val_loss did not improve from 0.13008\n",
      "Epoch 10/10\n",
      "800000/800000 [==============================] - 372s 465us/step - loss: 0.1404 - val_loss: 0.1318\n",
      "\n",
      "Epoch 00010: val_loss did not improve from 0.13008\n",
      "CPU times: user 1h 30min 59s, sys: 7min 5s, total: 1h 38min 5s\n",
      "Wall time: 1h 1min 59s\n"
     ]
    }
   ],
   "source": [
    "# model fitting using the DNN defined above\n",
    "# although here is shows epochs =10, However, I had previously ran for 50 epochs\n",
    "# which took approx 5 hours for training, However, the results were similar and the validation loss\n",
    "# didn't improve significantly after ~ 10 to 15 epochs\n",
    "\n",
    "%%time\n",
    "history = model.fit(x_train,y_train,validation_data=(x_test,y_test),callbacks=[checkpointer],verbose=1,epochs=10,\n",
    "                    batch_size = 10)"
   ]
  },
  {
   "cell_type": "code",
   "execution_count": 7,
   "metadata": {},
   "outputs": [],
   "source": [
    "model.load_weights('best_weights.hdf5')# load weights from best model"
   ]
  },
  {
   "cell_type": "code",
   "execution_count": 9,
   "metadata": {},
   "outputs": [
    {
     "name": "stdout",
     "output_type": "stream",
     "text": [
      "200000\n",
      "Score (RMSE): 0.3606675018143043\n"
     ]
    }
   ],
   "source": [
    "# Predict and measure RMSE on the testing set obtained splitting the training set\n",
    "pred = model.predict(x_test)\n",
    "print(len(pred))\n",
    "score = np.sqrt(metrics.mean_squared_error(pred,y_test))\n",
    "print(\"Score (RMSE): {}\".format(score))"
   ]
  },
  {
   "cell_type": "code",
   "execution_count": 20,
   "metadata": {},
   "outputs": [
    {
     "name": "stdout",
     "output_type": "stream",
     "text": [
      "[[-0.63045216]\n",
      " [-0.17516592]\n",
      " [-0.01056746]\n",
      " ...\n",
      " [-0.65152967]\n",
      " [-0.30069682]\n",
      " [-0.54284644]]\n"
     ]
    },
    {
     "data": {
      "image/png": "[encoded data removed]",
      "text/plain": [
       "<Figure size 1440x720 with 1 Axes>"
      ]
     },
     "metadata": {
      "needs_background": "light"
     },
     "output_type": "display_data"
    }
   ],
   "source": [
    "# COMPARISON between the real data and the predicted data. DNN set here seems to do reasonable job for fitting.\n",
    "print(pred)\n",
    "plt.figure(figsize=(20,10))\n",
    "ytest_np = y_test.values\n",
    "plt.plot(ytest_np[:10000], color = 'red', label = 'Real data')\n",
    "plt.plot(pred[:10000], color = 'blue', label = 'Predicted data')\n",
    "plt.title('Prediction')\n",
    "plt.legend()\n",
    "plt.show()"
   ]
  },
  {
   "cell_type": "code",
   "execution_count": 12,
   "metadata": {},
   "outputs": [
    {
     "data": {
      "text/html": [
       "<div>\n",
       "<style scoped>\n",
       "    .dataframe tbody tr th:only-of-type {\n",
       "        vertical-align: middle;\n",
       "    }\n",
       "\n",
       "    .dataframe tbody tr th {\n",
       "        vertical-align: top;\n",
       "    }\n",
       "\n",
       "    .dataframe thead th {\n",
       "        text-align: right;\n",
       "    }\n",
       "</style>\n",
       "<table border=\"1\" class=\"dataframe\">\n",
       "  <thead>\n",
       "    <tr style=\"text-align: right;\">\n",
       "      <th></th>\n",
       "      <th>pickup_longitude</th>\n",
       "      <th>pickup_latitude</th>\n",
       "      <th>dropoff_longitude</th>\n",
       "      <th>dropoff_latitude</th>\n",
       "      <th>passenger_count</th>\n",
       "      <th>hour_of_day</th>\n",
       "      <th>year</th>\n",
       "    </tr>\n",
       "  </thead>\n",
       "  <tbody>\n",
       "    <tr>\n",
       "      <th>0</th>\n",
       "      <td>0.049519</td>\n",
       "      <td>0.403347</td>\n",
       "      <td>-0.193721</td>\n",
       "      <td>-0.215192</td>\n",
       "      <td>-0.528808</td>\n",
       "      <td>-0.078693</td>\n",
       "      <td>1.749816</td>\n",
       "    </tr>\n",
       "    <tr>\n",
       "      <th>1</th>\n",
       "      <td>-0.293118</td>\n",
       "      <td>-0.992567</td>\n",
       "      <td>-0.659017</td>\n",
       "      <td>-0.348189</td>\n",
       "      <td>-0.528808</td>\n",
       "      <td>-0.078693</td>\n",
       "      <td>1.749816</td>\n",
       "    </tr>\n",
       "    <tr>\n",
       "      <th>2</th>\n",
       "      <td>-0.183281</td>\n",
       "      <td>0.009087</td>\n",
       "      <td>-0.146337</td>\n",
       "      <td>-0.149077</td>\n",
       "      <td>-0.528808</td>\n",
       "      <td>-0.385575</td>\n",
       "      <td>-0.394626</td>\n",
       "    </tr>\n",
       "    <tr>\n",
       "      <th>3</th>\n",
       "      <td>-0.148920</td>\n",
       "      <td>0.529093</td>\n",
       "      <td>-0.434096</td>\n",
       "      <td>0.008657</td>\n",
       "      <td>-0.528808</td>\n",
       "      <td>1.148836</td>\n",
       "      <td>0.141484</td>\n",
       "    </tr>\n",
       "    <tr>\n",
       "      <th>4</th>\n",
       "      <td>0.233482</td>\n",
       "      <td>1.219438</td>\n",
       "      <td>-0.383866</td>\n",
       "      <td>-0.198226</td>\n",
       "      <td>-0.528808</td>\n",
       "      <td>1.148836</td>\n",
       "      <td>0.141484</td>\n",
       "    </tr>\n",
       "  </tbody>\n",
       "</table>\n",
       "</div>"
      ],
      "text/plain": [
       "   pickup_longitude  pickup_latitude  dropoff_longitude  dropoff_latitude  \\\n",
       "0          0.049519         0.403347          -0.193721         -0.215192   \n",
       "1         -0.293118        -0.992567          -0.659017         -0.348189   \n",
       "2         -0.183281         0.009087          -0.146337         -0.149077   \n",
       "3         -0.148920         0.529093          -0.434096          0.008657   \n",
       "4          0.233482         1.219438          -0.383866         -0.198226   \n",
       "\n",
       "   passenger_count  hour_of_day      year  \n",
       "0        -0.528808    -0.078693  1.749816  \n",
       "1        -0.528808    -0.078693  1.749816  \n",
       "2        -0.528808    -0.385575 -0.394626  \n",
       "3        -0.528808     1.148836  0.141484  \n",
       "4        -0.528808     1.148836  0.141484  "
      ]
     },
     "metadata": {},
     "output_type": "display_data"
    }
   ],
   "source": [
    "# LOADING the scaled testing data provided by the competition on kaggle for submitting predictions\n",
    "test_df_PCA = pd.read_feather('nyc_taxi_TEST_std_Scaled_data.feather')\n",
    "display(test_df_PCA.head())"
   ]
  },
  {
   "cell_type": "code",
   "execution_count": 13,
   "metadata": {},
   "outputs": [
    {
     "name": "stdout",
     "output_type": "stream",
     "text": [
      "9914\n",
      "[[-0.06070971]\n",
      " [ 0.00908503]\n",
      " [-0.6777363 ]\n",
      " ...\n",
      " [ 4.669705  ]\n",
      " [ 0.880932  ]\n",
      " [-0.42201373]]\n"
     ]
    }
   ],
   "source": [
    "# Predict on actual testing set\n",
    "x_submission_test = test_df_PCA\n",
    "pred_submission = model.predict(x_submission_test)\n",
    "print(len(pred_submission))\n",
    "print(pred_submission)"
   ]
  },
  {
   "cell_type": "code",
   "execution_count": 14,
   "metadata": {},
   "outputs": [],
   "source": [
    "# LOAD the scaler used before for scaling the fare_amount in the NY_taxi_Cleaning_Engineering_Scaling.ipynb notebook\n",
    "scaler_filename = \"scaler_fare.save\"\n",
    "# And now to load...\n",
    "scaler_fare = joblib.load(scaler_filename) "
   ]
  },
  {
   "cell_type": "code",
   "execution_count": 15,
   "metadata": {},
   "outputs": [
    {
     "name": "stdout",
     "output_type": "stream",
     "text": [
      "[[10.609859 ]\n",
      " [11.23106  ]\n",
      " [ 5.1180844]\n",
      " ...\n",
      " [52.712383 ]\n",
      " [18.990835 ]\n",
      " [ 7.394114 ]]\n"
     ]
    }
   ],
   "source": [
    "# inverse transform on the scaled 'pred_submission' prediction data, \n",
    "# utilizing the loaded scaler to obtain REAL $ predictions\n",
    "\n",
    "rescaled_pred = scaler_fare.inverse_transform(pred_submission)\n",
    "print(rescaled_pred)"
   ]
  },
  {
   "cell_type": "code",
   "execution_count": 16,
   "metadata": {},
   "outputs": [
    {
     "data": {
      "text/html": [
       "<div>\n",
       "<style scoped>\n",
       "    .dataframe tbody tr th:only-of-type {\n",
       "        vertical-align: middle;\n",
       "    }\n",
       "\n",
       "    .dataframe tbody tr th {\n",
       "        vertical-align: top;\n",
       "    }\n",
       "\n",
       "    .dataframe thead th {\n",
       "        text-align: right;\n",
       "    }\n",
       "</style>\n",
       "<table border=\"1\" class=\"dataframe\">\n",
       "  <thead>\n",
       "    <tr style=\"text-align: right;\">\n",
       "      <th></th>\n",
       "      <th>key</th>\n",
       "    </tr>\n",
       "  </thead>\n",
       "  <tbody>\n",
       "    <tr>\n",
       "      <th>0</th>\n",
       "      <td>2015-01-27 13:08:24.0000002</td>\n",
       "    </tr>\n",
       "    <tr>\n",
       "      <th>1</th>\n",
       "      <td>2015-01-27 13:08:24.0000003</td>\n",
       "    </tr>\n",
       "    <tr>\n",
       "      <th>2</th>\n",
       "      <td>2011-10-08 11:53:44.0000002</td>\n",
       "    </tr>\n",
       "    <tr>\n",
       "      <th>3</th>\n",
       "      <td>2012-12-01 21:12:12.0000002</td>\n",
       "    </tr>\n",
       "    <tr>\n",
       "      <th>4</th>\n",
       "      <td>2012-12-01 21:12:12.0000003</td>\n",
       "    </tr>\n",
       "  </tbody>\n",
       "</table>\n",
       "</div>"
      ],
      "text/plain": [
       "                           key\n",
       "0  2015-01-27 13:08:24.0000002\n",
       "1  2015-01-27 13:08:24.0000003\n",
       "2  2011-10-08 11:53:44.0000002\n",
       "3  2012-12-01 21:12:12.0000002\n",
       "4  2012-12-01 21:12:12.0000003"
      ]
     },
     "metadata": {},
     "output_type": "display_data"
    }
   ],
   "source": [
    "# obtain testing set key from the previously (Cleaning.. notebook) saved dataframe.\n",
    "test_df_ENG = pd.read_feather('nyc_taxi_data_TEST_ENG.feather')\n",
    "columns = ['pickup_longitude','pickup_latitude','dropoff_longitude','dropoff_latitude','passenger_count','hour_of_day','year']\n",
    "test_df_key = test_df_ENG.drop(columns, 1)\n",
    "display(test_df_key.head())"
   ]
  },
  {
   "cell_type": "code",
   "execution_count": 17,
   "metadata": {},
   "outputs": [
    {
     "data": {
      "text/html": [
       "<div>\n",
       "<style scoped>\n",
       "    .dataframe tbody tr th:only-of-type {\n",
       "        vertical-align: middle;\n",
       "    }\n",
       "\n",
       "    .dataframe tbody tr th {\n",
       "        vertical-align: top;\n",
       "    }\n",
       "\n",
       "    .dataframe thead th {\n",
       "        text-align: right;\n",
       "    }\n",
       "</style>\n",
       "<table border=\"1\" class=\"dataframe\">\n",
       "  <thead>\n",
       "    <tr style=\"text-align: right;\">\n",
       "      <th></th>\n",
       "      <th>key</th>\n",
       "      <th>fare_amount</th>\n",
       "    </tr>\n",
       "  </thead>\n",
       "  <tbody>\n",
       "    <tr>\n",
       "      <th>0</th>\n",
       "      <td>2015-01-27 13:08:24.0000002</td>\n",
       "      <td>10.6099</td>\n",
       "    </tr>\n",
       "    <tr>\n",
       "      <th>1</th>\n",
       "      <td>2015-01-27 13:08:24.0000003</td>\n",
       "      <td>11.2311</td>\n",
       "    </tr>\n",
       "    <tr>\n",
       "      <th>2</th>\n",
       "      <td>2011-10-08 11:53:44.0000002</td>\n",
       "      <td>5.11808</td>\n",
       "    </tr>\n",
       "    <tr>\n",
       "      <th>3</th>\n",
       "      <td>2012-12-01 21:12:12.0000002</td>\n",
       "      <td>7.35972</td>\n",
       "    </tr>\n",
       "    <tr>\n",
       "      <th>4</th>\n",
       "      <td>2012-12-01 21:12:12.0000003</td>\n",
       "      <td>14.1373</td>\n",
       "    </tr>\n",
       "  </tbody>\n",
       "</table>\n",
       "</div>"
      ],
      "text/plain": [
       "                           key fare_amount\n",
       "0  2015-01-27 13:08:24.0000002     10.6099\n",
       "1  2015-01-27 13:08:24.0000003     11.2311\n",
       "2  2011-10-08 11:53:44.0000002     5.11808\n",
       "3  2012-12-01 21:12:12.0000002     7.35972\n",
       "4  2012-12-01 21:12:12.0000003     14.1373"
      ]
     },
     "metadata": {},
     "output_type": "display_data"
    }
   ],
   "source": [
    "#Creating pandas dataframe from numpy array for testing set predictions\n",
    "concatenate_arr = np.concatenate((test_df_key.values,rescaled_pred),axis=1)\n",
    "submission_format = pd.DataFrame(concatenate_arr,columns = ['key','fare_amount'])\n",
    "\n",
    "display(submission_format.head())\n",
    "\n",
    "# Save final predictions and key to feather format\n",
    "submission_format.to_feather('submission.feather')"
   ]
  },
  {
   "cell_type": "code",
   "execution_count": 1,
   "metadata": {},
   "outputs": [],
   "source": [
    "import pandas as pd"
   ]
  },
  {
   "cell_type": "code",
   "execution_count": 2,
   "metadata": {},
   "outputs": [],
   "source": [
    "# convert dataframe for submitting predictions into the .csv format asked by the kaggle competition\n",
    "load_submission = pd.read_feather('submission.feather')\n",
    "load_submission.to_csv('submission.csv', index = False)"
   ]
  }
 ],
 "metadata": {
  "kernelspec": {
   "display_name": "Python 3",
   "language": "python",
   "name": "python3"
  },
  "language_info": {
   "codemirror_mode": {
    "name": "ipython",
    "version": 3
   },
   "file_extension": ".py",
   "mimetype": "text/x-python",
   "name": "python",
   "nbconvert_exporter": "python",
   "pygments_lexer": "ipython3",
   "version": "3.6.6"
  }
 },
 "nbformat": 4,
 "nbformat_minor": 2
}
